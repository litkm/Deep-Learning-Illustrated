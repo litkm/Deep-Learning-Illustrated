{
  "nbformat": 4,
  "nbformat_minor": 0,
  "metadata": {
    "colab": {
      "name": "Deep Net in Keras.ipynb",
      "provenance": [],
      "collapsed_sections": [],
      "authorship_tag": "ABX9TyNFHKBgVNOzO6Ge8NgF+pqg",
      "include_colab_link": true
    },
    "kernelspec": {
      "name": "python3",
      "display_name": "Python 3"
    }
  },
  "cells": [
    {
      "cell_type": "markdown",
      "metadata": {
        "id": "view-in-github",
        "colab_type": "text"
      },
      "source": [
        "<a href=\"https://colab.research.google.com/github/litkm/Deep-Learning-Illustrated/blob/main/Deep_Net_in_Keras.ipynb\" target=\"_parent\"><img src=\"https://colab.research.google.com/assets/colab-badge.svg\" alt=\"Open In Colab\"/></a>"
      ]
    },
    {
      "cell_type": "code",
      "metadata": {
        "colab": {
          "base_uri": "https://localhost:8080/"
        },
        "id": "qGo46EVV9j0F",
        "outputId": "e045b19b-a872-41c2-812f-72f7382325b4"
      },
      "source": [
        "import keras\n",
        "from keras.datasets import mnist\n",
        "from keras.models import Sequential\n",
        "from keras.layers import Dense\n",
        "from keras.optimizers import SGD\n",
        "from keras.layers import Dropout\n",
        "from keras.layers.normalization import BatchNormalization\n",
        "from matplotlib import pyplot as plt\n",
        "\n",
        "(X_train, y_train), (X_valid, y_valid) = mnist.load_data()\n",
        "\n",
        "#print(X_train.shape)\n",
        "#print(y_train.shape)\n",
        "#print(y_train[0:12])\n",
        "\n",
        "# plt.figure(figsize=(5,5))\n",
        "# for k in range(12):\n",
        "#   plt.subplot(3, 4, k+1)\n",
        "#   plt.imshow(X_train[k], cmap='Greys')\n",
        "#   plt.axis('off')\n",
        "# plt.tight_layout()\n",
        "# plt.show()\n",
        "\n",
        "X_train = X_train.reshape(60000, 784).astype('float32')\n",
        "X_valid = X_valid.reshape(10000, 784).astype('float32')\n",
        "X_train /= 255\n",
        "X_valid /= 255\n",
        "\n",
        "n_classes = 0\n",
        "y_train = keras.utils.to_categorical(y_train, n_classes)\n",
        "y_valid = keras.utils.to_categorical(y_valid, n_classes)\n",
        "\n",
        "model = Sequential()\n",
        "\n",
        "model.add(Dense(64, activation = 'relu', input_shape=(784,)))\n",
        "model.add(BatchNormalization())\n",
        "\n",
        "model.add(Dense(64, activation = 'relu'))\n",
        "model.add(BatchNormalization())\n",
        "\n",
        "model.add(Dense(64, activation = 'relu'))\n",
        "model.add(BatchNormalization())\n",
        "model.add(Dropout(0.2))\n",
        "\n",
        "model.add(Dense(10, activation = 'softmax'))\n",
        "\n",
        "model.compile(loss='categorical_crossentropy', \n",
        "              optimizer='adam',\n",
        "              metrics=['accuracy'])\n",
        "\n",
        "model.fit(X_train, y_train,\n",
        "          batch_size=128, epochs=20,\n",
        "          verbose=1,\n",
        "          validation_data=(X_valid, y_valid))\n"
      ],
      "execution_count": 3,
      "outputs": [
        {
          "output_type": "stream",
          "text": [
            "Downloading data from https://storage.googleapis.com/tensorflow/tf-keras-datasets/mnist.npz\n",
            "11493376/11490434 [==============================] - 0s 0us/step\n",
            "Epoch 1/20\n",
            "469/469 [==============================] - 4s 5ms/step - loss: 0.6907 - accuracy: 0.7889 - val_loss: 0.1535 - val_accuracy: 0.9521\n",
            "Epoch 2/20\n",
            "469/469 [==============================] - 2s 4ms/step - loss: 0.1580 - accuracy: 0.9523 - val_loss: 0.1177 - val_accuracy: 0.9627\n",
            "Epoch 3/20\n",
            "469/469 [==============================] - 2s 4ms/step - loss: 0.1135 - accuracy: 0.9666 - val_loss: 0.1087 - val_accuracy: 0.9651\n",
            "Epoch 4/20\n",
            "469/469 [==============================] - 2s 4ms/step - loss: 0.0823 - accuracy: 0.9749 - val_loss: 0.0991 - val_accuracy: 0.9679\n",
            "Epoch 5/20\n",
            "469/469 [==============================] - 2s 4ms/step - loss: 0.0734 - accuracy: 0.9777 - val_loss: 0.0982 - val_accuracy: 0.9710\n",
            "Epoch 6/20\n",
            "469/469 [==============================] - 2s 4ms/step - loss: 0.0636 - accuracy: 0.9790 - val_loss: 0.0848 - val_accuracy: 0.9742\n",
            "Epoch 7/20\n",
            "469/469 [==============================] - 2s 4ms/step - loss: 0.0521 - accuracy: 0.9837 - val_loss: 0.0868 - val_accuracy: 0.9741\n",
            "Epoch 8/20\n",
            "469/469 [==============================] - 2s 4ms/step - loss: 0.0475 - accuracy: 0.9844 - val_loss: 0.1217 - val_accuracy: 0.9659\n",
            "Epoch 9/20\n",
            "469/469 [==============================] - 2s 4ms/step - loss: 0.0439 - accuracy: 0.9860 - val_loss: 0.0966 - val_accuracy: 0.9731\n",
            "Epoch 10/20\n",
            "469/469 [==============================] - 2s 5ms/step - loss: 0.0390 - accuracy: 0.9871 - val_loss: 0.0859 - val_accuracy: 0.9754\n",
            "Epoch 11/20\n",
            "469/469 [==============================] - 2s 4ms/step - loss: 0.0343 - accuracy: 0.9889 - val_loss: 0.0787 - val_accuracy: 0.9772\n",
            "Epoch 12/20\n",
            "469/469 [==============================] - 2s 4ms/step - loss: 0.0323 - accuracy: 0.9894 - val_loss: 0.0917 - val_accuracy: 0.9739\n",
            "Epoch 13/20\n",
            "469/469 [==============================] - 2s 4ms/step - loss: 0.0261 - accuracy: 0.9915 - val_loss: 0.0865 - val_accuracy: 0.9771\n",
            "Epoch 14/20\n",
            "469/469 [==============================] - 2s 5ms/step - loss: 0.0283 - accuracy: 0.9902 - val_loss: 0.0981 - val_accuracy: 0.9717\n",
            "Epoch 15/20\n",
            "469/469 [==============================] - 2s 5ms/step - loss: 0.0272 - accuracy: 0.9909 - val_loss: 0.0871 - val_accuracy: 0.9770\n",
            "Epoch 16/20\n",
            "469/469 [==============================] - 2s 4ms/step - loss: 0.0235 - accuracy: 0.9917 - val_loss: 0.0959 - val_accuracy: 0.9753\n",
            "Epoch 17/20\n",
            "469/469 [==============================] - 2s 4ms/step - loss: 0.0247 - accuracy: 0.9912 - val_loss: 0.0928 - val_accuracy: 0.9764\n",
            "Epoch 18/20\n",
            "469/469 [==============================] - 2s 5ms/step - loss: 0.0214 - accuracy: 0.9931 - val_loss: 0.1048 - val_accuracy: 0.9743\n",
            "Epoch 19/20\n",
            "469/469 [==============================] - 2s 4ms/step - loss: 0.0230 - accuracy: 0.9921 - val_loss: 0.1077 - val_accuracy: 0.9748\n",
            "Epoch 20/20\n",
            "469/469 [==============================] - 2s 4ms/step - loss: 0.0195 - accuracy: 0.9936 - val_loss: 0.0958 - val_accuracy: 0.9763\n"
          ],
          "name": "stdout"
        },
        {
          "output_type": "execute_result",
          "data": {
            "text/plain": [
              "<tensorflow.python.keras.callbacks.History at 0x7f2713edf190>"
            ]
          },
          "metadata": {
            "tags": []
          },
          "execution_count": 3
        }
      ]
    },
    {
      "cell_type": "code",
      "metadata": {
        "colab": {
          "base_uri": "https://localhost:8080/"
        },
        "id": "ZPe8feLGJLQM",
        "outputId": "2f5eba20-1d1b-4f40-a1d1-885970a8e4ab"
      },
      "source": [
        "model.summary()"
      ],
      "execution_count": 4,
      "outputs": [
        {
          "output_type": "stream",
          "text": [
            "Model: \"sequential\"\n",
            "_________________________________________________________________\n",
            "Layer (type)                 Output Shape              Param #   \n",
            "=================================================================\n",
            "dense (Dense)                (None, 64)                50240     \n",
            "_________________________________________________________________\n",
            "batch_normalization (BatchNo (None, 64)                256       \n",
            "_________________________________________________________________\n",
            "dense_1 (Dense)              (None, 64)                4160      \n",
            "_________________________________________________________________\n",
            "batch_normalization_1 (Batch (None, 64)                256       \n",
            "_________________________________________________________________\n",
            "dense_2 (Dense)              (None, 64)                4160      \n",
            "_________________________________________________________________\n",
            "batch_normalization_2 (Batch (None, 64)                256       \n",
            "_________________________________________________________________\n",
            "dropout (Dropout)            (None, 64)                0         \n",
            "_________________________________________________________________\n",
            "dense_3 (Dense)              (None, 10)                650       \n",
            "=================================================================\n",
            "Total params: 59,978\n",
            "Trainable params: 59,594\n",
            "Non-trainable params: 384\n",
            "_________________________________________________________________\n"
          ],
          "name": "stdout"
        }
      ]
    }
  ]
}
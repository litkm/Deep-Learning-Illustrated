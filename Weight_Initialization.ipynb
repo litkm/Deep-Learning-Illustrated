{
  "nbformat": 4,
  "nbformat_minor": 0,
  "metadata": {
    "colab": {
      "name": "Weight Initialization.ipynb",
      "provenance": [],
      "authorship_tag": "ABX9TyOjdop0Jj1tCRszWN8Jgdrh",
      "include_colab_link": true
    },
    "kernelspec": {
      "name": "python3",
      "display_name": "Python 3"
    }
  },
  "cells": [
    {
      "cell_type": "markdown",
      "metadata": {
        "id": "view-in-github",
        "colab_type": "text"
      },
      "source": [
        "<a href=\"https://colab.research.google.com/github/litkm/Deep-Learning-Illustrated/blob/main/Weight_Initialization.ipynb\" target=\"_parent\"><img src=\"https://colab.research.google.com/assets/colab-badge.svg\" alt=\"Open In Colab\"/></a>"
      ]
    },
    {
      "cell_type": "code",
      "metadata": {
        "colab": {
          "base_uri": "https://localhost:8080/",
          "height": 265
        },
        "id": "_7QSZI9ZQI3w",
        "outputId": "77e20ee0-9557-49cb-8944-910ab7b26e88"
      },
      "source": [
        "import numpy as np\r\n",
        "import matplotlib.pyplot as plt\r\n",
        "from keras import Sequential\r\n",
        "from keras.layers import Dense, Activation\r\n",
        "from keras.initializers import Zeros, RandomNormal\r\n",
        "from keras.initializers import glorot_normal, glorot_uniform\r\n",
        "\r\n",
        "n_input = 784\r\n",
        "n_dense = 256\r\n",
        "b_init = Zeros()\r\n",
        "\r\n",
        "w_init = RandomNormal(stddev=1.0)\r\n",
        "\r\n",
        "model = Sequential()\r\n",
        "model.add(Dense(n_dense,\r\n",
        "                input_dim=n_input,\r\n",
        "                kernel_initializer=w_init,\r\n",
        "                bias_initializer=b_init))\r\n",
        "model.add(Activation('sigmoid'))\r\n",
        "\r\n",
        "x = np.random.random((1, n_input))\r\n",
        "\r\n",
        "a = model.predict(x)\r\n",
        "\r\n",
        "_ = plt.hist(np.transpose(a))\r\n"
      ],
      "execution_count": 5,
      "outputs": [
        {
          "output_type": "display_data",
          "data": {
            "image/png": "[encoded data removed]",
            "text/plain": [
              "<Figure size 432x288 with 1 Axes>"
            ]
          },
          "metadata": {
            "tags": [],
            "needs_background": "light"
          }
        }
      ]
    },
    {
      "cell_type": "code",
      "metadata": {
        "colab": {
          "base_uri": "https://localhost:8080/",
          "height": 265
        },
        "id": "gNwU-GlHR0hz",
        "outputId": "c164dd08-4b0b-400d-f88d-cd6601d3d1db"
      },
      "source": [
        "w_init = glorot_normal()\r\n",
        "\r\n",
        "model = Sequential()\r\n",
        "model.add(Dense(n_dense,\r\n",
        "                input_dim=n_input,\r\n",
        "                kernel_initializer=w_init,\r\n",
        "                bias_initializer=b_init))\r\n",
        "model.add(Activation('sigmoid'))\r\n",
        "\r\n",
        "x = np.random.random((1, n_input))\r\n",
        "\r\n",
        "a = model.predict(x)\r\n",
        "\r\n",
        "_ = plt.hist(np.transpose(a))"
      ],
      "execution_count": 6,
      "outputs": [
        {
          "output_type": "display_data",
          "data": {
            "image/png": "[encoded data removed]",
            "text/plain": [
              "<Figure size 432x288 with 1 Axes>"
            ]
          },
          "metadata": {
            "tags": [],
            "needs_background": "light"
          }
        }
      ]
    },
    {
      "cell_type": "code",
      "metadata": {
        "colab": {
          "base_uri": "https://localhost:8080/",
          "height": 302
        },
        "id": "xcrLxww_SEnE",
        "outputId": "89785ade-3826-4005-dcbd-2ae8d4e3456b"
      },
      "source": [
        "w_init = glorot_normal()\r\n",
        "\r\n",
        "model = Sequential()\r\n",
        "model.add(Dense(n_dense,\r\n",
        "                input_dim=n_input,\r\n",
        "                kernel_initializer=w_init,\r\n",
        "                bias_initializer=b_init))\r\n",
        "model.add(Activation('tanh'))\r\n",
        "\r\n",
        "x = np.random.random((1, n_input))\r\n",
        "\r\n",
        "a = model.predict(x)\r\n",
        "\r\n",
        "_ = plt.hist(np.transpose(a))"
      ],
      "execution_count": 7,
      "outputs": [
        {
          "output_type": "stream",
          "text": [
            "WARNING:tensorflow:5 out of the last 5 calls to <function Model.make_predict_function.<locals>.predict_function at 0x7fc70cf0dbf8> triggered tf.function retracing. Tracing is expensive and the excessive number of tracings could be due to (1) creating @tf.function repeatedly in a loop, (2) passing tensors with different shapes, (3) passing Python objects instead of tensors. For (1), please define your @tf.function outside of the loop. For (2), @tf.function has experimental_relax_shapes=True option that relaxes argument shapes that can avoid unnecessary retracing. For (3), please refer to https://www.tensorflow.org/guide/function#controlling_retracing and https://www.tensorflow.org/api_docs/python/tf/function for  more details.\n"
          ],
          "name": "stdout"
        },
        {
          "output_type": "display_data",
          "data": {
            "image/png": "[encoded data removed]",
            "text/plain": [
              "<Figure size 432x288 with 1 Axes>"
            ]
          },
          "metadata": {
            "tags": [],
            "needs_background": "light"
          }
        }
      ]
    },
    {
      "cell_type": "code",
      "metadata": {
        "colab": {
          "base_uri": "https://localhost:8080/",
          "height": 302
        },
        "id": "hjQoFvveSO3r",
        "outputId": "e6b1d48d-3d10-4ec7-f72f-b2f971043e32"
      },
      "source": [
        "w_init = glorot_normal()\r\n",
        "\r\n",
        "model = Sequential()\r\n",
        "model.add(Dense(n_dense,\r\n",
        "                input_dim=n_input,\r\n",
        "                kernel_initializer=w_init,\r\n",
        "                bias_initializer=b_init))\r\n",
        "model.add(Activation('relu'))\r\n",
        "\r\n",
        "x = np.random.random((1, n_input))\r\n",
        "\r\n",
        "a = model.predict(x)\r\n",
        "\r\n",
        "_ = plt.hist(np.transpose(a))"
      ],
      "execution_count": 8,
      "outputs": [
        {
          "output_type": "stream",
          "text": [
            "WARNING:tensorflow:6 out of the last 6 calls to <function Model.make_predict_function.<locals>.predict_function at 0x7fc70bd6aea0> triggered tf.function retracing. Tracing is expensive and the excessive number of tracings could be due to (1) creating @tf.function repeatedly in a loop, (2) passing tensors with different shapes, (3) passing Python objects instead of tensors. For (1), please define your @tf.function outside of the loop. For (2), @tf.function has experimental_relax_shapes=True option that relaxes argument shapes that can avoid unnecessary retracing. For (3), please refer to https://www.tensorflow.org/guide/function#controlling_retracing and https://www.tensorflow.org/api_docs/python/tf/function for  more details.\n"
          ],
          "name": "stdout"
        },
        {
          "output_type": "display_data",
          "data": {
            "image/png": "[encoded data removed]",
            "text/plain": [
              "<Figure size 432x288 with 1 Axes>"
            ]
          },
          "metadata": {
            "tags": [],
            "needs_background": "light"
          }
        }
      ]
    }
  ]
}
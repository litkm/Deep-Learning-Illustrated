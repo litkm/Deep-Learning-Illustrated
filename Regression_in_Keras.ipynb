{
  "nbformat": 4,
  "nbformat_minor": 0,
  "metadata": {
    "colab": {
      "name": "Regression in Keras.ipynb",
      "provenance": [],
      "authorship_tag": "ABX9TyMB2U8F51AW88yLMxRqwDkP",
      "include_colab_link": true
    },
    "kernelspec": {
      "name": "python3",
      "display_name": "Python 3"
    }
  },
  "cells": [
    {
      "cell_type": "markdown",
      "metadata": {
        "id": "view-in-github",
        "colab_type": "text"
      },
      "source": [
        "<a href=\"https://colab.research.google.com/github/litkm/Deep-Learning-Illustrated/blob/main/Regression_in_Keras.ipynb\" target=\"_parent\"><img src=\"https://colab.research.google.com/assets/colab-badge.svg\" alt=\"Open In Colab\"/></a>"
      ]
    },
    {
      "cell_type": "code",
      "metadata": {
        "colab": {
          "base_uri": "https://localhost:8080/"
        },
        "id": "cjYKzYPQReDV",
        "outputId": "32785488-dbae-4fce-d49c-edc1266fbae8"
      },
      "source": [
        "import keras\r\n",
        "from keras.datasets import boston_housing\r\n",
        "from keras.models import Sequential\r\n",
        "from keras.layers import Dense\r\n",
        "from keras.layers import Dropout\r\n",
        "from keras.layers.normalization import BatchNormalization\r\n",
        "import numpy as np\r\n",
        "\r\n",
        "(X_train, y_train), (X_valid, y_valid) = boston_housing.load_data()\r\n",
        "\r\n",
        "model = Sequential()\r\n",
        "\r\n",
        "model.add(Dense(32, input_dim=13, activation = 'relu'))\r\n",
        "model.add(BatchNormalization())\r\n",
        "\r\n",
        "model.add(Dense(16, activation = 'relu'))\r\n",
        "model.add(BatchNormalization())\r\n",
        "model.add(Dropout(0.2))\r\n",
        "\r\n",
        "model.add(Dense(1, activation = 'linear'))\r\n",
        "\r\n",
        "model.compile(loss='mean_squared_error', \r\n",
        "              optimizer='adam')\r\n",
        "\r\n",
        "model.fit(X_train, y_train,\r\n",
        "          batch_size=8, epochs=32,\r\n",
        "          verbose=1,\r\n",
        "          validation_data=(X_valid, y_valid))"
      ],
      "execution_count": 3,
      "outputs": [
        {
          "output_type": "stream",
          "text": [
            "Epoch 1/32\n",
            "51/51 [==============================] - 1s 5ms/step - loss: 544.9143 - val_loss: 627.6339\n",
            "Epoch 2/32\n",
            "51/51 [==============================] - 0s 2ms/step - loss: 588.4080 - val_loss: 593.0571\n",
            "Epoch 3/32\n",
            "51/51 [==============================] - 0s 2ms/step - loss: 546.1774 - val_loss: 582.9994\n",
            "Epoch 4/32\n",
            "51/51 [==============================] - 0s 2ms/step - loss: 528.1514 - val_loss: 526.5632\n",
            "Epoch 5/32\n",
            "51/51 [==============================] - 0s 2ms/step - loss: 508.5269 - val_loss: 481.4401\n",
            "Epoch 6/32\n",
            "51/51 [==============================] - 0s 2ms/step - loss: 454.0400 - val_loss: 480.0457\n",
            "Epoch 7/32\n",
            "51/51 [==============================] - 0s 2ms/step - loss: 452.8127 - val_loss: 461.7491\n",
            "Epoch 8/32\n",
            "51/51 [==============================] - 0s 2ms/step - loss: 398.9851 - val_loss: 465.7891\n",
            "Epoch 9/32\n",
            "51/51 [==============================] - 0s 2ms/step - loss: 345.6200 - val_loss: 414.6043\n",
            "Epoch 10/32\n",
            "51/51 [==============================] - 0s 2ms/step - loss: 317.4259 - val_loss: 504.8492\n",
            "Epoch 11/32\n",
            "51/51 [==============================] - 0s 2ms/step - loss: 303.4763 - val_loss: 426.3192\n",
            "Epoch 12/32\n",
            "51/51 [==============================] - 0s 2ms/step - loss: 258.0779 - val_loss: 395.2017\n",
            "Epoch 13/32\n",
            "51/51 [==============================] - 0s 2ms/step - loss: 197.2544 - val_loss: 326.2026\n",
            "Epoch 14/32\n",
            "51/51 [==============================] - 0s 2ms/step - loss: 178.3133 - val_loss: 329.6813\n",
            "Epoch 15/32\n",
            "51/51 [==============================] - 0s 2ms/step - loss: 130.8580 - val_loss: 232.8323\n",
            "Epoch 16/32\n",
            "51/51 [==============================] - 0s 2ms/step - loss: 117.6124 - val_loss: 152.4191\n",
            "Epoch 17/32\n",
            "51/51 [==============================] - 0s 2ms/step - loss: 93.9606 - val_loss: 79.3866\n",
            "Epoch 18/32\n",
            "51/51 [==============================] - 0s 2ms/step - loss: 100.1945 - val_loss: 50.8231\n",
            "Epoch 19/32\n",
            "51/51 [==============================] - 0s 2ms/step - loss: 59.3190 - val_loss: 53.2348\n",
            "Epoch 20/32\n",
            "51/51 [==============================] - 0s 2ms/step - loss: 48.1348 - val_loss: 48.6625\n",
            "Epoch 21/32\n",
            "51/51 [==============================] - 0s 2ms/step - loss: 61.2409 - val_loss: 44.0741\n",
            "Epoch 22/32\n",
            "51/51 [==============================] - 0s 2ms/step - loss: 43.7902 - val_loss: 46.5501\n",
            "Epoch 23/32\n",
            "51/51 [==============================] - 0s 2ms/step - loss: 53.9048 - val_loss: 32.1136\n",
            "Epoch 24/32\n",
            "51/51 [==============================] - 0s 2ms/step - loss: 45.7579 - val_loss: 45.0599\n",
            "Epoch 25/32\n",
            "51/51 [==============================] - 0s 2ms/step - loss: 49.2270 - val_loss: 30.3945\n",
            "Epoch 26/32\n",
            "51/51 [==============================] - 0s 2ms/step - loss: 52.0805 - val_loss: 30.7221\n",
            "Epoch 27/32\n",
            "51/51 [==============================] - 0s 2ms/step - loss: 36.0424 - val_loss: 32.3605\n",
            "Epoch 28/32\n",
            "51/51 [==============================] - 0s 2ms/step - loss: 41.0721 - val_loss: 34.3223\n",
            "Epoch 29/32\n",
            "51/51 [==============================] - 0s 2ms/step - loss: 37.5685 - val_loss: 46.5825\n",
            "Epoch 30/32\n",
            "51/51 [==============================] - 0s 2ms/step - loss: 37.3072 - val_loss: 38.8050\n",
            "Epoch 31/32\n",
            "51/51 [==============================] - 0s 2ms/step - loss: 40.1331 - val_loss: 67.4339\n",
            "Epoch 32/32\n",
            "51/51 [==============================] - 0s 2ms/step - loss: 37.8592 - val_loss: 21.4093\n"
          ],
          "name": "stdout"
        },
        {
          "output_type": "execute_result",
          "data": {
            "text/plain": [
              "<tensorflow.python.keras.callbacks.History at 0x7faebda4e950>"
            ]
          },
          "metadata": {
            "tags": []
          },
          "execution_count": 3
        }
      ]
    },
    {
      "cell_type": "code",
      "metadata": {
        "colab": {
          "base_uri": "https://localhost:8080/"
        },
        "id": "yp1-3qt8Rgrg",
        "outputId": "5d991f07-f429-4464-8d31-3703b0336d58"
      },
      "source": [
        "model.predict(np.reshape(X_valid[42], [1, 13]))\r\n"
      ],
      "execution_count": 7,
      "outputs": [
        {
          "output_type": "execute_result",
          "data": {
            "text/plain": [
              "array([[14.316739]], dtype=float32)"
            ]
          },
          "metadata": {
            "tags": []
          },
          "execution_count": 7
        }
      ]
    },
    {
      "cell_type": "code",
      "metadata": {
        "colab": {
          "base_uri": "https://localhost:8080/"
        },
        "id": "nXtv0F7PUiOb",
        "outputId": "2e7764f8-186b-4f94-bf84-cffa588d0eec"
      },
      "source": [
        "print(y_valid[42])"
      ],
      "execution_count": 8,
      "outputs": [
        {
          "output_type": "stream",
          "text": [
            "14.1\n"
          ],
          "name": "stdout"
        }
      ]
    }
  ]
}
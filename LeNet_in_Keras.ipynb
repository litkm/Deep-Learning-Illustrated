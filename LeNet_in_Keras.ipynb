{
  "nbformat": 4,
  "nbformat_minor": 0,
  "metadata": {
    "colab": {
      "name": "LeNet in Keras.ipynb",
      "provenance": [],
      "collapsed_sections": [],
      "authorship_tag": "ABX9TyM4yJ1RQVeS8M3s7sIEF+23",
      "include_colab_link": true
    },
    "kernelspec": {
      "name": "python3",
      "display_name": "Python 3"
    }
  },
  "cells": [
    {
      "cell_type": "markdown",
      "metadata": {
        "id": "view-in-github",
        "colab_type": "text"
      },
      "source": [
        "<a href=\"https://colab.research.google.com/github/litkm/Deep-Learning-Illustrated/blob/main/LeNet_in_Keras.ipynb\" target=\"_parent\"><img src=\"https://colab.research.google.com/assets/colab-badge.svg\" alt=\"Open In Colab\"/></a>"
      ]
    },
    {
      "cell_type": "code",
      "metadata": {
        "colab": {
          "base_uri": "https://localhost:8080/"
        },
        "id": "qGo46EVV9j0F",
        "outputId": "473bb3b3-fcde-4389-fa81-e3811817c2da"
      },
      "source": [
        "import keras\n",
        "from keras.datasets import mnist\n",
        "from keras.models import Sequential\n",
        "from keras.layers import Dense, Dropout\n",
        "from keras.layers import Conv2D, MaxPooling2D\n",
        "from keras.layers import Flatten\n",
        "\n",
        "(X_train, y_train), (X_valid, y_valid) = mnist.load_data()\n",
        "\n",
        "X_train = X_train.reshape(60000, 28, 28, 1).astype('float32')\n",
        "X_valid = X_valid.reshape(10000, 28,28, 1).astype('float32')\n",
        "\n",
        "X_train /= 255\n",
        "X_valid /= 255\n",
        "\n",
        "n_classes = 10\n",
        "y_train = keras.utils.to_categorical(y_train, n_classes)\n",
        "y_valid = keras.utils.to_categorical(y_valid, n_classes)\n",
        "\n",
        "model = Sequential()\n",
        "\n",
        "model.add(Conv2D(64, kernel_size=(3, 3), activation='relu',\n",
        "                 input_shape=(28, 28, 1)))\n",
        "\n",
        "model.add(Conv2D(64, kernel_size=(3, 3), activation='relu'))\n",
        "model.add(MaxPooling2D(pool_size=(2, 2)))\n",
        "model.add(Dropout(0.25))\n",
        "model.add(Flatten())\n",
        "\n",
        "model.add(Dense(128, activation='relu'))\n",
        "model.add(Dropout(0.5))\n",
        "\n",
        "model.add(Dense(n_classes, activation = 'softmax'))\n",
        "\n",
        "model.compile(loss='categorical_crossentropy', \n",
        "              optimizer='adam',\n",
        "              metrics=['accuracy'])\n",
        "\n",
        "model.fit(X_train, y_train, batch_size=128, epochs=10, verbose=1, validation_data=(X_valid, y_valid))\n"
      ],
      "execution_count": 8,
      "outputs": [
        {
          "output_type": "stream",
          "text": [
            "Epoch 1/10\n",
            "469/469 [==============================] - 235s 500ms/step - loss: 0.4656 - accuracy: 0.8564 - val_loss: 0.0495 - val_accuracy: 0.9838\n",
            "Epoch 2/10\n",
            "469/469 [==============================] - 235s 500ms/step - loss: 0.0832 - accuracy: 0.9745 - val_loss: 0.0363 - val_accuracy: 0.9883\n",
            "Epoch 3/10\n",
            "469/469 [==============================] - 235s 501ms/step - loss: 0.0576 - accuracy: 0.9820 - val_loss: 0.0335 - val_accuracy: 0.9891\n",
            "Epoch 4/10\n",
            "469/469 [==============================] - 235s 501ms/step - loss: 0.0495 - accuracy: 0.9846 - val_loss: 0.0311 - val_accuracy: 0.9900\n",
            "Epoch 5/10\n",
            "469/469 [==============================] - 235s 501ms/step - loss: 0.0390 - accuracy: 0.9877 - val_loss: 0.0291 - val_accuracy: 0.9907\n",
            "Epoch 6/10\n",
            "469/469 [==============================] - 235s 501ms/step - loss: 0.0344 - accuracy: 0.9892 - val_loss: 0.0323 - val_accuracy: 0.9907\n",
            "Epoch 7/10\n",
            "469/469 [==============================] - 235s 500ms/step - loss: 0.0340 - accuracy: 0.9893 - val_loss: 0.0327 - val_accuracy: 0.9908\n",
            "Epoch 8/10\n",
            "469/469 [==============================] - 235s 501ms/step - loss: 0.0287 - accuracy: 0.9903 - val_loss: 0.0257 - val_accuracy: 0.9923\n",
            "Epoch 9/10\n",
            "469/469 [==============================] - 234s 499ms/step - loss: 0.0255 - accuracy: 0.9917 - val_loss: 0.0273 - val_accuracy: 0.9922\n",
            "Epoch 10/10\n",
            "469/469 [==============================] - 234s 499ms/step - loss: 0.0245 - accuracy: 0.9920 - val_loss: 0.0285 - val_accuracy: 0.9909\n"
          ],
          "name": "stdout"
        },
        {
          "output_type": "execute_result",
          "data": {
            "text/plain": [
              "<tensorflow.python.keras.callbacks.History at 0x7f1613902c90>"
            ]
          },
          "metadata": {
            "tags": []
          },
          "execution_count": 8
        }
      ]
    },
    {
      "cell_type": "code",
      "metadata": {
        "colab": {
          "base_uri": "https://localhost:8080/"
        },
        "id": "ZPe8feLGJLQM",
        "outputId": "7544a17c-dc26-4ef7-e267-7c490ae3a2c0"
      },
      "source": [
        "model.summary()"
      ],
      "execution_count": 6,
      "outputs": [
        {
          "output_type": "stream",
          "text": [
            "Model: \"sequential_3\"\n",
            "_________________________________________________________________\n",
            "Layer (type)                 Output Shape              Param #   \n",
            "=================================================================\n",
            "conv2d_4 (Conv2D)            (None, 26, 26, 64)        640       \n",
            "_________________________________________________________________\n",
            "conv2d_5 (Conv2D)            (None, 24, 24, 64)        36928     \n",
            "_________________________________________________________________\n",
            "max_pooling2d_2 (MaxPooling2 (None, 12, 12, 64)        0         \n",
            "_________________________________________________________________\n",
            "dropout_4 (Dropout)          (None, 12, 12, 64)        0         \n",
            "_________________________________________________________________\n",
            "flatten_2 (Flatten)          (None, 9216)              0         \n",
            "_________________________________________________________________\n",
            "dense_4 (Dense)              (None, 128)               1179776   \n",
            "_________________________________________________________________\n",
            "dropout_5 (Dropout)          (None, 128)               0         \n",
            "_________________________________________________________________\n",
            "dense_5 (Dense)              (None, 0)                 0         \n",
            "=================================================================\n",
            "Total params: 1,217,344\n",
            "Trainable params: 1,217,344\n",
            "Non-trainable params: 0\n",
            "_________________________________________________________________\n"
          ],
          "name": "stdout"
        }
      ]
    }
  ]
}
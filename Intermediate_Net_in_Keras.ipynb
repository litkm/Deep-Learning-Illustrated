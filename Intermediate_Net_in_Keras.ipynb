{
  "nbformat": 4,
  "nbformat_minor": 0,
  "metadata": {
    "colab": {
      "name": "Intermediate Net in Keras.ipynb",
      "provenance": [],
      "authorship_tag": "ABX9TyN4YggEGk6ZuXn3EkM4C/85",
      "include_colab_link": true
    },
    "kernelspec": {
      "name": "python3",
      "display_name": "Python 3"
    }
  },
  "cells": [
    {
      "cell_type": "markdown",
      "metadata": {
        "id": "view-in-github",
        "colab_type": "text"
      },
      "source": [
        "<a href=\"https://colab.research.google.com/github/litkm/Deep-Learning-Illustrated/blob/main/Intermediate_Net_in_Keras.ipynb\" target=\"_parent\"><img src=\"https://colab.research.google.com/assets/colab-badge.svg\" alt=\"Open In Colab\"/></a>"
      ]
    },
    {
      "cell_type": "code",
      "metadata": {
        "colab": {
          "base_uri": "https://localhost:8080/"
        },
        "id": "qGo46EVV9j0F",
        "outputId": "b41c37e3-1ee7-4b35-a474-68fd7d9cf983"
      },
      "source": [
        "import keras\n",
        "from keras.datasets import mnist\n",
        "from keras.models import Sequential\n",
        "from keras.layers import Dense\n",
        "from keras.optimizers import SGD\n",
        "from matplotlib import pyplot as plt\n",
        "\n",
        "(X_train, y_train), (X_valid, y_valid) = mnist.load_data()\n",
        "\n",
        "#print(X_train.shape)\n",
        "#print(y_train.shape)\n",
        "#print(y_train[0:12])\n",
        "\n",
        "# plt.figure(figsize=(5,5))\n",
        "# for k in range(12):\n",
        "#   plt.subplot(3, 4, k+1)\n",
        "#   plt.imshow(X_train[k], cmap='Greys')\n",
        "#   plt.axis('off')\n",
        "# plt.tight_layout()\n",
        "# plt.show()\n",
        "\n",
        "X_train = X_train.reshape(60000, 784).astype('float32')\n",
        "X_valid = X_valid.reshape(10000, 784).astype('float32')\n",
        "X_train /= 255\n",
        "X_valid /= 255\n",
        "\n",
        "n_classes = 0\n",
        "y_train = keras.utils.to_categorical(y_train, n_classes)\n",
        "y_valid = keras.utils.to_categorical(y_valid, n_classes)\n",
        "\n",
        "model = Sequential()\n",
        "model.add(Dense(64, activation = 'relu', input_shape=(784,)))\n",
        "model.add(Dense(64, activation = 'relu'))\n",
        "model.add(Dense(10, activation = 'softmax'))\n",
        "\n",
        "model.compile(loss='categorical_crossentropy', \n",
        "              optimizer=SGD(lr=0.1), \n",
        "              metrics=['accuracy'])\n",
        "\n",
        "model.fit(X_train, y_train,\n",
        "          batch_size=128, epochs=20,\n",
        "          verbose=1,\n",
        "          validation_data=(X_valid, y_valid))\n"
      ],
      "execution_count": 2,
      "outputs": [
        {
          "output_type": "stream",
          "text": [
            "Epoch 1/20\n",
            "469/469 [==============================] - 2s 4ms/step - loss: 0.8042 - accuracy: 0.7668 - val_loss: 0.2476 - val_accuracy: 0.9279\n",
            "Epoch 2/20\n",
            "469/469 [==============================] - 1s 3ms/step - loss: 0.2459 - accuracy: 0.9275 - val_loss: 0.1938 - val_accuracy: 0.9396\n",
            "Epoch 3/20\n",
            "469/469 [==============================] - 1s 3ms/step - loss: 0.1835 - accuracy: 0.9478 - val_loss: 0.1613 - val_accuracy: 0.9521\n",
            "Epoch 4/20\n",
            "469/469 [==============================] - 1s 3ms/step - loss: 0.1522 - accuracy: 0.9551 - val_loss: 0.1525 - val_accuracy: 0.9556\n",
            "Epoch 5/20\n",
            "469/469 [==============================] - 2s 3ms/step - loss: 0.1272 - accuracy: 0.9628 - val_loss: 0.1256 - val_accuracy: 0.9620\n",
            "Epoch 6/20\n",
            "469/469 [==============================] - 2s 3ms/step - loss: 0.1071 - accuracy: 0.9692 - val_loss: 0.1153 - val_accuracy: 0.9651\n",
            "Epoch 7/20\n",
            "469/469 [==============================] - 1s 3ms/step - loss: 0.0971 - accuracy: 0.9723 - val_loss: 0.1100 - val_accuracy: 0.9659\n",
            "Epoch 8/20\n",
            "469/469 [==============================] - 1s 3ms/step - loss: 0.0862 - accuracy: 0.9742 - val_loss: 0.1135 - val_accuracy: 0.9640\n",
            "Epoch 9/20\n",
            "469/469 [==============================] - 1s 3ms/step - loss: 0.0804 - accuracy: 0.9763 - val_loss: 0.1023 - val_accuracy: 0.9681\n",
            "Epoch 10/20\n",
            "469/469 [==============================] - 2s 3ms/step - loss: 0.0727 - accuracy: 0.9775 - val_loss: 0.1022 - val_accuracy: 0.9667\n",
            "Epoch 11/20\n",
            "469/469 [==============================] - 1s 3ms/step - loss: 0.0663 - accuracy: 0.9800 - val_loss: 0.0984 - val_accuracy: 0.9673\n",
            "Epoch 12/20\n",
            "469/469 [==============================] - 2s 3ms/step - loss: 0.0610 - accuracy: 0.9815 - val_loss: 0.0947 - val_accuracy: 0.9704\n",
            "Epoch 13/20\n",
            "469/469 [==============================] - 1s 3ms/step - loss: 0.0547 - accuracy: 0.9839 - val_loss: 0.1006 - val_accuracy: 0.9690\n",
            "Epoch 14/20\n",
            "469/469 [==============================] - 1s 3ms/step - loss: 0.0519 - accuracy: 0.9847 - val_loss: 0.0932 - val_accuracy: 0.9716\n",
            "Epoch 15/20\n",
            "469/469 [==============================] - 1s 3ms/step - loss: 0.0515 - accuracy: 0.9839 - val_loss: 0.1075 - val_accuracy: 0.9669\n",
            "Epoch 16/20\n",
            "469/469 [==============================] - 1s 3ms/step - loss: 0.0435 - accuracy: 0.9872 - val_loss: 0.0930 - val_accuracy: 0.9715\n",
            "Epoch 17/20\n",
            "469/469 [==============================] - 1s 3ms/step - loss: 0.0412 - accuracy: 0.9874 - val_loss: 0.0859 - val_accuracy: 0.9727\n",
            "Epoch 18/20\n",
            "469/469 [==============================] - 1s 3ms/step - loss: 0.0387 - accuracy: 0.9885 - val_loss: 0.0891 - val_accuracy: 0.9717\n",
            "Epoch 19/20\n",
            "469/469 [==============================] - 1s 3ms/step - loss: 0.0353 - accuracy: 0.9899 - val_loss: 0.1008 - val_accuracy: 0.9702\n",
            "Epoch 20/20\n",
            "469/469 [==============================] - 1s 3ms/step - loss: 0.0318 - accuracy: 0.9910 - val_loss: 0.0846 - val_accuracy: 0.9739\n"
          ],
          "name": "stdout"
        },
        {
          "output_type": "execute_result",
          "data": {
            "text/plain": [
              "<tensorflow.python.keras.callbacks.History at 0x7efe706c3780>"
            ]
          },
          "metadata": {
            "tags": []
          },
          "execution_count": 2
        }
      ]
    },
    {
      "cell_type": "code",
      "metadata": {
        "colab": {
          "base_uri": "https://localhost:8080/"
        },
        "id": "ZPe8feLGJLQM",
        "outputId": "8fe4bf34-e4e1-4cb4-ccec-f834bce2c59a"
      },
      "source": [
        "model.summary()"
      ],
      "execution_count": 3,
      "outputs": [
        {
          "output_type": "stream",
          "text": [
            "Model: \"sequential_1\"\n",
            "_________________________________________________________________\n",
            "Layer (type)                 Output Shape              Param #   \n",
            "=================================================================\n",
            "dense_1 (Dense)              (None, 64)                50240     \n",
            "_________________________________________________________________\n",
            "dense_2 (Dense)              (None, 64)                4160      \n",
            "_________________________________________________________________\n",
            "dense_3 (Dense)              (None, 10)                650       \n",
            "=================================================================\n",
            "Total params: 55,050\n",
            "Trainable params: 55,050\n",
            "Non-trainable params: 0\n",
            "_________________________________________________________________\n"
          ],
          "name": "stdout"
        }
      ]
    }
  ]
}